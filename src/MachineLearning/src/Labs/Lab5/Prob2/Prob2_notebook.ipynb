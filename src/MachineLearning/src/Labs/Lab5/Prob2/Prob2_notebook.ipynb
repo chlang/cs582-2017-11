{
 "cells": [
  {
   "cell_type": "markdown",
   "metadata": {},
   "source": [
    "## Perceptron"
   ]
  },
  {
   "cell_type": "code",
   "execution_count": 1,
   "metadata": {},
   "outputs": [
    {
     "name": "stdout",
     "output_type": "stream",
     "text": [
      "[[ 3.  0.]\n",
      " [ 0.  3.]]\n",
      "1.0\n"
     ]
    }
   ],
   "source": [
    "import numpy as np\n",
    "import pcn\n",
    "\n",
    "a = np.array([[1,1,1],[1,2,1],[2,1,1],[0,0,0],[1,0,0],[0,1,0]])\n",
    "\n",
    "x = a[:, 0:2]\n",
    "y = a[:, 2:]\n",
    "\n",
    "p = pcn.pcn(x, y)\n",
    "w = p.pcntrain(x, y, 0.25, 20)\n",
    "p.confmat(x, y)"
   ]
  },
  {
   "cell_type": "code",
   "execution_count": 3,
   "metadata": {},
   "outputs": [
    {
     "name": "stdout",
     "output_type": "stream",
     "text": [
      "[[ 0.52010027]\n",
      " [ 0.72902206]\n",
      " [ 0.98338923]]\n"
     ]
    }
   ],
   "source": [
    "print(w)"
   ]
  },
  {
   "cell_type": "code",
   "execution_count": null,
   "metadata": {
    "collapsed": true
   },
   "outputs": [],
   "source": []
  }
 ],
 "metadata": {
  "kernelspec": {
   "display_name": "Python 3",
   "language": "python",
   "name": "python3"
  },
  "language_info": {
   "codemirror_mode": {
    "name": "ipython",
    "version": 3
   },
   "file_extension": ".py",
   "mimetype": "text/x-python",
   "name": "python",
   "nbconvert_exporter": "python",
   "pygments_lexer": "ipython3",
   "version": "3.6.3"
  }
 },
 "nbformat": 4,
 "nbformat_minor": 2
}
