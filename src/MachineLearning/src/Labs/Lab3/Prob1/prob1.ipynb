{
 "cells": [
  {
   "cell_type": "markdown",
   "metadata": {},
   "source": [
    "## Import Lib"
   ]
  },
  {
   "cell_type": "code",
   "execution_count": 1,
   "metadata": {
    "collapsed": true
   },
   "outputs": [],
   "source": [
    "import pylab as pl\n",
    "import numpy as np"
   ]
  },
  {
   "cell_type": "markdown",
   "metadata": {},
   "source": [
    "## Load Data"
   ]
  },
  {
   "cell_type": "code",
   "execution_count": 2,
   "metadata": {},
   "outputs": [
    {
     "data": {
      "text/plain": [
       "Text(0,0.5,'Ozone (Dobson units)')"
      ]
     },
     "execution_count": 2,
     "metadata": {},
     "output_type": "execute_result"
    }
   ],
   "source": [
    "PNoz = np.loadtxt('PNOz.dat')\n",
    "\n",
    "pl.plot(np.arange(np.shape(PNoz)[0]),PNoz[:,2],'.')\n",
    "pl.xlabel('Time (Days)')\n",
    "pl.ylabel('Ozone (Dobson units)')"
   ]
  },
  {
   "cell_type": "markdown",
   "metadata": {},
   "source": [
    "## Normalise data"
   ]
  },
  {
   "cell_type": "code",
   "execution_count": 3,
   "metadata": {
    "collapsed": true
   },
   "outputs": [],
   "source": [
    "PNoz[:,2] = PNoz[:,2]-PNoz[:,2].mean()\n",
    "PNoz[:,2] = PNoz[:,2]/PNoz[:,2].max()"
   ]
  },
  {
   "cell_type": "markdown",
   "metadata": {},
   "source": [
    "## Assemble input vectors"
   ]
  },
  {
   "cell_type": "code",
   "execution_count": 4,
   "metadata": {
    "collapsed": true
   },
   "outputs": [],
   "source": [
    "t = 2\n",
    "k = 3\n",
    "\n",
    "lastPoint = np.shape(PNoz)[0]-t*(k+1)\n",
    "inputs = np.zeros((lastPoint,k))\n",
    "targets = np.zeros((lastPoint,1))\n",
    "for i in range(lastPoint):\n",
    "    inputs[i,:] = PNoz[i:i+t*k:t,2]\n",
    "    targets[i] = PNoz[i+t*(k+1),2]\n",
    "    \n",
    "test = inputs[-400:,:]\n",
    "testtargets = targets[-400:]\n",
    "train = inputs[:-400:2,:]\n",
    "traintargets = targets[:-400:2]\n",
    "valid = inputs[1:-400:2,:]\n",
    "validtargets = targets[1:-400:2]"
   ]
  },
  {
   "cell_type": "markdown",
   "metadata": {},
   "source": [
    "## Randomly order the data"
   ]
  },
  {
   "cell_type": "code",
   "execution_count": 11,
   "metadata": {},
   "outputs": [],
   "source": [
    "change = list(range(np.shape(inputs)[0]))\n",
    "np.random.shuffle(change)\n",
    "inputs = inputs[change,:]\n",
    "targets = targets[change,:]"
   ]
  },
  {
   "cell_type": "markdown",
   "metadata": {},
   "source": [
    "## Train the network"
   ]
  },
  {
   "cell_type": "code",
   "execution_count": 28,
   "metadata": {},
   "outputs": [
    {
     "name": "stdout",
     "output_type": "stream",
     "text": [
      "1\n",
      "Iteration:  0  Error:  498.72505889\n",
      "2\n",
      "Iteration:  0  Error:  20.7090225835\n",
      "3\n",
      "Iteration:  0  Error:  20.4103291831\n",
      "4\n",
      "Iteration:  0  Error:  20.2935247757\n",
      "5\n",
      "Iteration:  0  Error:  20.2292648053\n",
      "6\n",
      "Iteration:  0  Error:  20.1849048589\n",
      "7\n",
      "Iteration:  0  Error:  20.149357032\n",
      "8\n",
      "Iteration:  0  Error:  20.1183259065\n",
      "9\n",
      "Iteration:  0  Error:  20.0898505233\n",
      "10\n",
      "Iteration:  0  Error:  20.062909415\n",
      "11\n",
      "Iteration:  0  Error:  20.036944822\n",
      "12\n",
      "Iteration:  0  Error:  20.0116669481\n",
      "13\n",
      "Iteration:  0  Error:  19.9869503532\n",
      "14\n",
      "Iteration:  0  Error:  19.9627681218\n",
      "15\n",
      "Iteration:  0  Error:  19.9391474924\n",
      "16\n",
      "Iteration:  0  Error:  19.9161406272\n",
      "17\n",
      "Iteration:  0  Error:  19.8938065707\n",
      "18\n",
      "Iteration:  0  Error:  19.8722011538\n",
      "19\n",
      "Iteration:  0  Error:  19.8513721527\n",
      "20\n",
      "Iteration:  0  Error:  19.8313576472\n",
      "21\n",
      "Iteration:  0  Error:  19.8121861272\n",
      "22\n",
      "Iteration:  0  Error:  19.7938774161\n",
      "23\n",
      "Iteration:  0  Error:  19.7764438514\n",
      "24\n",
      "Iteration:  0  Error:  19.7598914244\n",
      "25\n",
      "Iteration:  0  Error:  19.7442207406\n",
      "26\n",
      "Iteration:  0  Error:  19.7294277576\n",
      "27\n",
      "Iteration:  0  Error:  19.7155043166\n",
      "28\n",
      "Iteration:  0  Error:  19.7024385061\n",
      "29\n",
      "Iteration:  0  Error:  19.6902149107\n",
      "30\n",
      "Iteration:  0  Error:  19.6788147952\n",
      "31\n",
      "Iteration:  0  Error:  19.6682162698\n",
      "32\n",
      "Iteration:  0  Error:  19.6583944698\n",
      "33\n",
      "Iteration:  0  Error:  19.649321773\n",
      "34\n",
      "Iteration:  0  Error:  19.640968066\n",
      "35\n",
      "Iteration:  0  Error:  19.6333010626\n",
      "36\n",
      "Iteration:  0  Error:  19.626286668\n",
      "37\n",
      "Iteration:  0  Error:  19.6198893774\n",
      "38\n",
      "Iteration:  0  Error:  19.6140726979\n",
      "39\n",
      "Iteration:  0  Error:  19.6087995759\n",
      "40\n",
      "Iteration:  0  Error:  19.6040328182\n",
      "41\n",
      "Iteration:  0  Error:  19.5997354919\n",
      "42\n",
      "Iteration:  0  Error:  19.595871294\n",
      "43\n",
      "Iteration:  0  Error:  19.5924048807\n",
      "44\n",
      "Iteration:  0  Error:  19.5893021516\n",
      "45\n",
      "Iteration:  0  Error:  19.5865304859\n",
      "46\n",
      "Iteration:  0  Error:  19.5840589282\n",
      "47\n",
      "Iteration:  0  Error:  19.5818583262\n",
      "48\n",
      "Iteration:  0  Error:  19.579901422\n",
      "49\n",
      "Iteration:  0  Error:  19.5781629011\n",
      "50\n",
      "Iteration:  0  Error:  19.5766194036\n",
      "51\n",
      "Iteration:  0  Error:  19.5752495029\n",
      "Stopped 21.096071624 21.0968369888 21.0977542879\n"
     ]
    },
    {
     "data": {
      "text/plain": [
       "21.096071623995343"
      ]
     },
     "execution_count": 28,
     "metadata": {},
     "output_type": "execute_result"
    }
   ],
   "source": [
    "import mlp\n",
    "net = mlp.mlp(train,traintargets,3,outtype='linear')\n",
    "net.earlystopping(train,traintargets,valid,validtargets,0.25)"
   ]
  },
  {
   "cell_type": "markdown",
   "metadata": {},
   "source": [
    "## Test"
   ]
  },
  {
   "cell_type": "code",
   "execution_count": 30,
   "metadata": {},
   "outputs": [
    {
     "ename": "ValueError",
     "evalue": "shapes (400,17) and (4,3) not aligned: 17 (dim 1) != 4 (dim 0)",
     "output_type": "error",
     "traceback": [
      "\u001b[1;31m---------------------------------------------------------------------------\u001b[0m",
      "\u001b[1;31mValueError\u001b[0m                                Traceback (most recent call last)",
      "\u001b[1;32m<ipython-input-30-5d8722455c61>\u001b[0m in \u001b[0;36m<module>\u001b[1;34m()\u001b[0m\n\u001b[0;32m      1\u001b[0m \u001b[0mtest\u001b[0m \u001b[1;33m=\u001b[0m \u001b[0mnp\u001b[0m\u001b[1;33m.\u001b[0m\u001b[0mconcatenate\u001b[0m\u001b[1;33m(\u001b[0m\u001b[1;33m(\u001b[0m\u001b[0mtest\u001b[0m\u001b[1;33m,\u001b[0m\u001b[1;33m-\u001b[0m\u001b[0mnp\u001b[0m\u001b[1;33m.\u001b[0m\u001b[0mones\u001b[0m\u001b[1;33m(\u001b[0m\u001b[1;33m(\u001b[0m\u001b[0mnp\u001b[0m\u001b[1;33m.\u001b[0m\u001b[0mshape\u001b[0m\u001b[1;33m(\u001b[0m\u001b[0mtest\u001b[0m\u001b[1;33m)\u001b[0m\u001b[1;33m[\u001b[0m\u001b[1;36m0\u001b[0m\u001b[1;33m]\u001b[0m\u001b[1;33m,\u001b[0m\u001b[1;36m1\u001b[0m\u001b[1;33m)\u001b[0m\u001b[1;33m)\u001b[0m\u001b[1;33m)\u001b[0m\u001b[1;33m,\u001b[0m\u001b[0maxis\u001b[0m\u001b[1;33m=\u001b[0m\u001b[1;36m1\u001b[0m\u001b[1;33m)\u001b[0m\u001b[1;33m\u001b[0m\u001b[0m\n\u001b[1;32m----> 2\u001b[1;33m \u001b[0mtestout\u001b[0m \u001b[1;33m=\u001b[0m \u001b[0mnet\u001b[0m\u001b[1;33m.\u001b[0m\u001b[0mmlpfwd\u001b[0m\u001b[1;33m(\u001b[0m\u001b[0mtest\u001b[0m\u001b[1;33m)\u001b[0m\u001b[1;33m\u001b[0m\u001b[0m\n\u001b[0m\u001b[0;32m      3\u001b[0m \u001b[1;33m\u001b[0m\u001b[0m\n\u001b[0;32m      4\u001b[0m \u001b[0mpl\u001b[0m\u001b[1;33m.\u001b[0m\u001b[0mfigure\u001b[0m\u001b[1;33m(\u001b[0m\u001b[1;33m)\u001b[0m\u001b[1;33m\u001b[0m\u001b[0m\n\u001b[0;32m      5\u001b[0m \u001b[0mpl\u001b[0m\u001b[1;33m.\u001b[0m\u001b[0mplot\u001b[0m\u001b[1;33m(\u001b[0m\u001b[0mnp\u001b[0m\u001b[1;33m.\u001b[0m\u001b[0marange\u001b[0m\u001b[1;33m(\u001b[0m\u001b[0mnp\u001b[0m\u001b[1;33m.\u001b[0m\u001b[0mshape\u001b[0m\u001b[1;33m(\u001b[0m\u001b[0mtest\u001b[0m\u001b[1;33m)\u001b[0m\u001b[1;33m[\u001b[0m\u001b[1;36m0\u001b[0m\u001b[1;33m]\u001b[0m\u001b[1;33m)\u001b[0m\u001b[1;33m,\u001b[0m\u001b[0mtestout\u001b[0m\u001b[1;33m,\u001b[0m\u001b[1;34m'.'\u001b[0m\u001b[1;33m)\u001b[0m\u001b[1;33m\u001b[0m\u001b[0m\n",
      "\u001b[1;32m~\\Documents\\cs582-2017-11\\src\\MachineLearning\\src\\Labs\\Lab3\\mlp.py\u001b[0m in \u001b[0;36mmlpfwd\u001b[1;34m(self, inputs)\u001b[0m\n\u001b[0;32m     94\u001b[0m         \u001b[1;34m\"\"\" Run the network forward \"\"\"\u001b[0m\u001b[1;33m\u001b[0m\u001b[0m\n\u001b[0;32m     95\u001b[0m \u001b[1;33m\u001b[0m\u001b[0m\n\u001b[1;32m---> 96\u001b[1;33m         \u001b[0mself\u001b[0m\u001b[1;33m.\u001b[0m\u001b[0mhidden\u001b[0m \u001b[1;33m=\u001b[0m \u001b[0mnp\u001b[0m\u001b[1;33m.\u001b[0m\u001b[0mdot\u001b[0m\u001b[1;33m(\u001b[0m\u001b[0minputs\u001b[0m\u001b[1;33m,\u001b[0m\u001b[0mself\u001b[0m\u001b[1;33m.\u001b[0m\u001b[0mweights1\u001b[0m\u001b[1;33m)\u001b[0m\u001b[1;33m;\u001b[0m\u001b[1;33m\u001b[0m\u001b[0m\n\u001b[0m\u001b[0;32m     97\u001b[0m         \u001b[0mself\u001b[0m\u001b[1;33m.\u001b[0m\u001b[0mhidden\u001b[0m \u001b[1;33m=\u001b[0m \u001b[1;36m1.0\u001b[0m\u001b[1;33m/\u001b[0m\u001b[1;33m(\u001b[0m\u001b[1;36m1.0\u001b[0m\u001b[1;33m+\u001b[0m\u001b[0mnp\u001b[0m\u001b[1;33m.\u001b[0m\u001b[0mexp\u001b[0m\u001b[1;33m(\u001b[0m\u001b[1;33m-\u001b[0m\u001b[0mself\u001b[0m\u001b[1;33m.\u001b[0m\u001b[0mbeta\u001b[0m\u001b[1;33m*\u001b[0m\u001b[0mself\u001b[0m\u001b[1;33m.\u001b[0m\u001b[0mhidden\u001b[0m\u001b[1;33m)\u001b[0m\u001b[1;33m)\u001b[0m\u001b[1;33m\u001b[0m\u001b[0m\n\u001b[0;32m     98\u001b[0m         \u001b[0mself\u001b[0m\u001b[1;33m.\u001b[0m\u001b[0mhidden\u001b[0m \u001b[1;33m=\u001b[0m \u001b[0mnp\u001b[0m\u001b[1;33m.\u001b[0m\u001b[0mconcatenate\u001b[0m\u001b[1;33m(\u001b[0m\u001b[1;33m(\u001b[0m\u001b[0mself\u001b[0m\u001b[1;33m.\u001b[0m\u001b[0mhidden\u001b[0m\u001b[1;33m,\u001b[0m\u001b[1;33m-\u001b[0m\u001b[0mnp\u001b[0m\u001b[1;33m.\u001b[0m\u001b[0mones\u001b[0m\u001b[1;33m(\u001b[0m\u001b[1;33m(\u001b[0m\u001b[0mnp\u001b[0m\u001b[1;33m.\u001b[0m\u001b[0mshape\u001b[0m\u001b[1;33m(\u001b[0m\u001b[0minputs\u001b[0m\u001b[1;33m)\u001b[0m\u001b[1;33m[\u001b[0m\u001b[1;36m0\u001b[0m\u001b[1;33m]\u001b[0m\u001b[1;33m,\u001b[0m\u001b[1;36m1\u001b[0m\u001b[1;33m)\u001b[0m\u001b[1;33m)\u001b[0m\u001b[1;33m)\u001b[0m\u001b[1;33m,\u001b[0m\u001b[0maxis\u001b[0m\u001b[1;33m=\u001b[0m\u001b[1;36m1\u001b[0m\u001b[1;33m)\u001b[0m\u001b[1;33m\u001b[0m\u001b[0m\n",
      "\u001b[1;31mValueError\u001b[0m: shapes (400,17) and (4,3) not aligned: 17 (dim 1) != 4 (dim 0)"
     ]
    }
   ],
   "source": [
    "test = np.concatenate((test,-np.ones((np.shape(test)[0],1))),axis=1)\n",
    "testout = net.mlpfwd(test)\n",
    "\n",
    "pl.figure()\n",
    "pl.plot(np.arange(np.shape(test)[0]),testout,'.')\n",
    "pl.plot(np.arange(np.shape(test)[0]),testtargets,'x')\n",
    "pl.legend(('Predictions','Targets'))\n",
    "print (0.5*np.sum((testtargets-testout)**2))\n",
    "pl.show()"
   ]
  },
  {
   "cell_type": "code",
   "execution_count": null,
   "metadata": {
    "collapsed": true
   },
   "outputs": [],
   "source": []
  }
 ],
 "metadata": {
  "kernelspec": {
   "display_name": "Python 3",
   "language": "python",
   "name": "python3"
  },
  "language_info": {
   "codemirror_mode": {
    "name": "ipython",
    "version": 3
   },
   "file_extension": ".py",
   "mimetype": "text/x-python",
   "name": "python",
   "nbconvert_exporter": "python",
   "pygments_lexer": "ipython3",
   "version": "3.6.3"
  }
 },
 "nbformat": 4,
 "nbformat_minor": 2
}
